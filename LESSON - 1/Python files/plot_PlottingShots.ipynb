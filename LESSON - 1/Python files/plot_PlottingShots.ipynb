{
 "cells": [
  {
   "cell_type": "code",
   "execution_count": 1,
   "metadata": {},
   "outputs": [],
   "source": [
    "%matplotlib inline"
   ]
  },
  {
   "cell_type": "markdown",
   "metadata": {},
   "source": [
    "\n",
    "# Plotting shots\n",
    "\n",
    "Start by watching the video below, then learn how to plot shot positions.\n",
    "\n",
    "..  youtube:: GWsK_KWKCas\n",
    "   :width: 640\n",
    "   :height: 349\n"
   ]
  },
  {
   "cell_type": "code",
   "execution_count": 2,
   "metadata": {},
   "outputs": [
    {
     "ename": "ImportError",
     "evalue": "cannot import name 'colormaps' from 'matplotlib' (E:\\Anaconda\\lib\\site-packages\\matplotlib\\__init__.py)",
     "output_type": "error",
     "traceback": [
      "\u001b[1;31m---------------------------------------------------------------------------\u001b[0m",
      "\u001b[1;31mImportError\u001b[0m                               Traceback (most recent call last)",
      "\u001b[1;32m<ipython-input-2-77450eba8490>\u001b[0m in \u001b[0;36m<module>\u001b[1;34m\u001b[0m\n\u001b[0;32m      1\u001b[0m \u001b[1;32mimport\u001b[0m \u001b[0mmatplotlib\u001b[0m\u001b[1;33m.\u001b[0m\u001b[0mpyplot\u001b[0m \u001b[1;32mas\u001b[0m \u001b[0mplt\u001b[0m\u001b[1;33m\u001b[0m\u001b[1;33m\u001b[0m\u001b[0m\n\u001b[0;32m      2\u001b[0m \u001b[1;32mimport\u001b[0m \u001b[0mnumpy\u001b[0m \u001b[1;32mas\u001b[0m \u001b[0mnp\u001b[0m\u001b[1;33m\u001b[0m\u001b[1;33m\u001b[0m\u001b[0m\n\u001b[1;32m----> 3\u001b[1;33m \u001b[1;32mfrom\u001b[0m \u001b[0mmplsoccer\u001b[0m \u001b[1;32mimport\u001b[0m \u001b[0mPitch\u001b[0m\u001b[1;33m,\u001b[0m \u001b[0mSbopen\u001b[0m\u001b[1;33m,\u001b[0m \u001b[0mVerticalPitch\u001b[0m\u001b[1;33m\u001b[0m\u001b[1;33m\u001b[0m\u001b[0m\n\u001b[0m",
      "\u001b[1;32mE:\\Anaconda\\lib\\site-packages\\mplsoccer\\__init__.py\u001b[0m in \u001b[0;36m<module>\u001b[1;34m\u001b[0m\n\u001b[0;32m      4\u001b[0m \u001b[1;32mfrom\u001b[0m \u001b[1;33m.\u001b[0m\u001b[0m__about__\u001b[0m \u001b[1;32mimport\u001b[0m \u001b[0m__version__\u001b[0m\u001b[1;33m\u001b[0m\u001b[1;33m\u001b[0m\u001b[0m\n\u001b[0;32m      5\u001b[0m \u001b[1;32mfrom\u001b[0m \u001b[1;33m.\u001b[0m\u001b[0mstatsbomb\u001b[0m \u001b[1;32mimport\u001b[0m \u001b[0mSbopen\u001b[0m\u001b[1;33m,\u001b[0m \u001b[0mSbapi\u001b[0m\u001b[1;33m,\u001b[0m  \u001b[0mSblocal\u001b[0m\u001b[1;33m\u001b[0m\u001b[1;33m\u001b[0m\u001b[0m\n\u001b[1;32m----> 6\u001b[1;33m \u001b[1;32mfrom\u001b[0m \u001b[1;33m.\u001b[0m\u001b[0mcm\u001b[0m \u001b[1;32mimport\u001b[0m \u001b[1;33m*\u001b[0m\u001b[1;33m\u001b[0m\u001b[1;33m\u001b[0m\u001b[0m\n\u001b[0m\u001b[0;32m      7\u001b[0m \u001b[1;32mfrom\u001b[0m \u001b[1;33m.\u001b[0m\u001b[0mlinecollection\u001b[0m \u001b[1;32mimport\u001b[0m \u001b[1;33m*\u001b[0m\u001b[1;33m\u001b[0m\u001b[1;33m\u001b[0m\u001b[0m\n\u001b[0;32m      8\u001b[0m \u001b[1;32mfrom\u001b[0m \u001b[1;33m.\u001b[0m\u001b[0mpitch\u001b[0m \u001b[1;32mimport\u001b[0m \u001b[1;33m*\u001b[0m\u001b[1;33m\u001b[0m\u001b[1;33m\u001b[0m\u001b[0m\n",
      "\u001b[1;32mE:\\Anaconda\\lib\\site-packages\\mplsoccer\\cm.py\u001b[0m in \u001b[0;36m<module>\u001b[1;34m\u001b[0m\n\u001b[0;32m      2\u001b[0m \u001b[1;33m\u001b[0m\u001b[0m\n\u001b[0;32m      3\u001b[0m \u001b[1;32mimport\u001b[0m \u001b[0mnumpy\u001b[0m \u001b[1;32mas\u001b[0m \u001b[0mnp\u001b[0m\u001b[1;33m\u001b[0m\u001b[1;33m\u001b[0m\u001b[0m\n\u001b[1;32m----> 4\u001b[1;33m \u001b[1;32mfrom\u001b[0m \u001b[0mmatplotlib\u001b[0m \u001b[1;32mimport\u001b[0m \u001b[0mcolormaps\u001b[0m\u001b[1;33m\u001b[0m\u001b[1;33m\u001b[0m\u001b[0m\n\u001b[0m\u001b[0;32m      5\u001b[0m \u001b[1;32mfrom\u001b[0m \u001b[0mmatplotlib\u001b[0m\u001b[1;33m.\u001b[0m\u001b[0mcolors\u001b[0m \u001b[1;32mimport\u001b[0m \u001b[0mLinearSegmentedColormap\u001b[0m\u001b[1;33m,\u001b[0m \u001b[0mListedColormap\u001b[0m\u001b[1;33m,\u001b[0m \u001b[0mto_rgba\u001b[0m\u001b[1;33m\u001b[0m\u001b[1;33m\u001b[0m\u001b[0m\n\u001b[0;32m      6\u001b[0m \u001b[1;33m\u001b[0m\u001b[0m\n",
      "\u001b[1;31mImportError\u001b[0m: cannot import name 'colormaps' from 'matplotlib' (E:\\Anaconda\\lib\\site-packages\\matplotlib\\__init__.py)"
     ]
    }
   ],
   "source": [
    "import matplotlib.pyplot as plt\n",
    "import numpy as np\n",
    "from mplsoccer import Pitch, Sbopen, VerticalPitch"
   ]
  },
  {
   "cell_type": "markdown",
   "metadata": {},
   "source": [
    "## Opening the dataset\n",
    "The first thing we have to do is open the data. We use a parser SBopen available in mplsoccer.\n",
    "Using method *event* and putting the id of the game as a parameter we load the data.\n",
    "The event data, which we will mostly focus on,\n",
    "is stored in a dataframe *df*. From this dataframe we take out the names of the two teams.\n",
    "Then, we filter the dataframe so that only shots are left.\n",
    "\n"
   ]
  },
  {
   "cell_type": "code",
   "execution_count": null,
   "metadata": {},
   "outputs": [],
   "source": [
    "parser = Sbopen()\n",
    "df, related, freeze, tactics = parser.event(69301)\n",
    "#get team names\n",
    "team1, team2 = df.team_name.unique()\n",
    "#A dataframe of shots\n",
    "shots = df.loc[df['type_name'] == 'Shot'].set_index('id')"
   ]
  },
  {
   "cell_type": "markdown",
   "metadata": {},
   "source": [
    "## Making the shot map using iterative solution\n",
    "First let's draw the pitch using the [MPL Soccer class](https://mplsoccer.readthedocs.io/en/latest/gallery/pitch_setup/plot_pitches.html),\n",
    "\n",
    "In this example, we set variables for pitch length and width to the Statsbomb coordinate system (they use yards).\n",
    "You can read more about [different coordinate systems here](https://mplsoccer.readthedocs.io/en/latest/gallery/pitch_setup/plot_compare_pitches.html)\n",
    "\n",
    "Now, we iterate through all the shots in the match. We take *x* and *y* coordinates, the team name and information\n",
    "if goal was scored. If It was scored, we plot a solid circle with a name of the player, if not, we plot a\n",
    "transculent circle (parameter alpha tunes the transcluency).\n",
    "To have England's shots on one half and Sweden shots on the other half,\n",
    "we subtract *x* and *y* from the pitch length and height.\n",
    "\n",
    "Football data tends to be attacking left to right, and we will use this as default in the course.\n",
    "\n"
   ]
  },
  {
   "cell_type": "code",
   "execution_count": null,
   "metadata": {},
   "outputs": [],
   "source": [
    "pitch = Pitch(line_color = \"black\")\n",
    "fig, ax = pitch.draw(figsize=(10, 7))\n",
    "#Size of the pitch in yards (!!!)\n",
    "pitchLengthX = 120\n",
    "pitchWidthY = 80\n",
    "#Plot the shots by looping through them.\n",
    "for i,shot in shots.iterrows():\n",
    "    #get the information \n",
    "    x=shot['x']\n",
    "    y=shot['y']\n",
    "    goal=shot['outcome_name']=='Goal'\n",
    "    team_name=shot['team_name']    \n",
    "    #set circlesize\n",
    "    circleSize=2\n",
    "    #plot England\n",
    "    if (team_name==team1):\n",
    "        if goal:\n",
    "            shotCircle=plt.Circle((x,y),circleSize,color=\"red\")\n",
    "            plt.text(x+1,y-2,shot['player_name']) \n",
    "        else:\n",
    "            shotCircle=plt.Circle((x,y),circleSize,color=\"red\")     \n",
    "            shotCircle.set_alpha(.2)\n",
    "    #plot Sweden\n",
    "    else:\n",
    "        if goal:\n",
    "            shotCircle=plt.Circle((pitchLengthX-x,pitchWidthY - y),circleSize,color=\"blue\") \n",
    "            plt.text(pitchLengthX-x+1,pitchWidthY - y - 2 ,shot['player_name'])\n",
    "        else:\n",
    "            shotCircle=plt.Circle((pitchLengthX-x,pitchWidthY - y),circleSize,color=\"blue\")      \n",
    "            shotCircle.set_alpha(.2)\n",
    "    ax.add_patch(shotCircle)\n",
    "#set title\n",
    "fig.suptitle(\"England (red) and Sweden (blue) shots\", fontsize = 24)     \n",
    "fig.set_size_inches(10, 7)\n",
    "plt.show()"
   ]
  },
  {
   "cell_type": "markdown",
   "metadata": {},
   "source": [
    "## Using mplsoccer's Pitch class\n",
    "This time we make a direct query to return only shots by each team.\n",
    "We only need the columns with cooridnates, outcome (showing if goal was scored),\n",
    "and player name. If a goal was scored, we use scatter method\n",
    "to plot a circle and annotate method to mark scorer's name.\n",
    "If not, we use scatter method to draw a translucent circle. \n",
    "Note that, once again, to plot the shots on different halves we needed to reverse the coordinates for Sweden.\n",
    "Using pitch.scatter we could have plotted all shots using one line. \n",
    "However, since name of a player and alpha differs if goal was scored,\n",
    "it was more convenient to loop through smaller dataset.\n",
    "\n"
   ]
  },
  {
   "cell_type": "code",
   "execution_count": null,
   "metadata": {},
   "outputs": [],
   "source": [
    "#create pitch\n",
    "pitch = Pitch(line_color='black')\n",
    "fig, ax = pitch.grid(grid_height=0.9, title_height=0.06, axis=False,\n",
    "                     endnote_height=0.04, title_space=0, endnote_space=0)\n",
    "#query\n",
    "mask_england = (df.type_name == 'Shot') & (df.team_name == team1)\n",
    "#finding rows in the df and keeping only necessary columns\n",
    "df_england = df.loc[mask_england, ['x', 'y', 'outcome_name', \"player_name\"]]\n",
    "\n",
    "#plot them - if shot ended with Goal - alpha 1 and add name\n",
    "#for England\n",
    "for i, row in df_england.iterrows():\n",
    "    if row[\"outcome_name\"] == 'Goal':\n",
    "    #make circle \n",
    "       pitch.scatter(row.x, row.y, alpha = 1, s = 500, color = \"red\", ax=ax['pitch']) \n",
    "       pitch.annotate(row[\"player_name\"], (row.x + 1, row.y - 2), ax=ax['pitch'], fontsize = 12)\n",
    "    else: \n",
    "       pitch.scatter(row.x, row.y, alpha = 0.2, s = 500, color = \"red\", ax=ax['pitch']) \n",
    "       \n",
    "mask_sweden = (df.type_name == 'Shot') & (df.team_name == team2)\n",
    "df_sweden = df.loc[mask_sweden, ['x', 'y', 'outcome_name', \"player_name\"]]   \n",
    "\n",
    "#for Sweden we need to revert coordinates\n",
    "for i, row in df_sweden.iterrows():\n",
    "    if row[\"outcome_name\"] == 'Goal':\n",
    "       pitch.scatter(120 - row.x, 80 - row.y, alpha = 1, s = 500, color = \"blue\", ax=ax['pitch']) \n",
    "       pitch.annotate(row[\"player_name\"], (120 - row.x + 1, 80 - row.y - 2), ax=ax['pitch'], fontsize = 12)\n",
    "    else: \n",
    "       pitch.scatter(120 - row.x, 80 - row.y, alpha = 0.2, s = 500, color = \"blue\", ax=ax['pitch']) \n",
    "       \n",
    "fig.suptitle(\"England (red) and Sweden (blue) shots\", fontsize = 30)           \n",
    "plt.show()"
   ]
  },
  {
   "cell_type": "markdown",
   "metadata": {},
   "source": [
    "## Plotting shots on one half\n",
    "To plot shots of only one team on one half we use VerticalPitch() class\n",
    "If you set *half* to *True*, you will plot only one half of the pitch.\n",
    "It is a nice way of plotting shots since they rarely occur on the defensive half.\n",
    "We plot all the shots at once this time, without looping through the dataframe this time.\n",
    "\n"
   ]
  },
  {
   "cell_type": "code",
   "execution_count": null,
   "metadata": {},
   "outputs": [],
   "source": [
    "pitch = VerticalPitch(line_color='black', half = True)\n",
    "fig, ax = pitch.grid(grid_height=0.9, title_height=0.06, axis=False,\n",
    "                     endnote_height=0.04, title_space=0, endnote_space=0)\n",
    "#plotting all shots\n",
    "pitch.scatter(df_england.x, df_england.y, alpha = 1, s = 500, color = \"red\", ax=ax['pitch'], edgecolors=\"black\") \n",
    "fig.suptitle(\"England shots against Sweden\", fontsize = 30)           \n",
    "plt.show()"
   ]
  },
  {
   "cell_type": "markdown",
   "metadata": {},
   "source": [
    "## Challenge - try it before looking at the next page\n",
    "1) Create a dataframe of passes which contains all the passes in the match\n",
    "2) Plot the start point of every Sweden pass. Attacking left to right.\n",
    "3) Plot only passes made by Caroline Seger (she is Sara Caroline Seger in the database)\n",
    "4) Plot arrows to show where the passes went to.\n",
    "\n"
   ]
  }
 ],
 "metadata": {
  "kernelspec": {
   "display_name": "Python 3",
   "language": "python",
   "name": "python3"
  },
  "language_info": {
   "codemirror_mode": {
    "name": "ipython",
    "version": 3
   },
   "file_extension": ".py",
   "mimetype": "text/x-python",
   "name": "python",
   "nbconvert_exporter": "python",
   "pygments_lexer": "ipython3",
   "version": "3.8.5"
  }
 },
 "nbformat": 4,
 "nbformat_minor": 1
}
